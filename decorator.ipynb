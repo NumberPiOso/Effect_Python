{
 "cells": [
  {
   "cell_type": "code",
   "execution_count": 7,
   "metadata": {},
   "outputs": [],
   "source": [
    "from functools import wraps"
   ]
  },
  {
   "cell_type": "code",
   "execution_count": 49,
   "metadata": {},
   "outputs": [],
   "source": [
    "@track_time\n",
    "@trace\n",
    "def factorial(n):\n",
    "    if n==1 or n==0:\n",
    "        return 1\n",
    "    return n * factorial(n-1)"
   ]
  },
  {
   "cell_type": "code",
   "execution_count": 23,
   "metadata": {},
   "outputs": [],
   "source": [
    "def trace(func):\n",
    "    @wraps(func)\n",
    "    def wrapper(*args, **kwargs):\n",
    "        result = func(*args, *kwargs)\n",
    "        print(f'{func.__name__}({args},{kwargs}) ->  {result}')\n",
    "        return result\n",
    "    return wrapper"
   ]
  },
  {
   "cell_type": "code",
   "execution_count": 41,
   "metadata": {},
   "outputs": [
    {
     "name": "stdout",
     "output_type": "stream",
     "text": [
      "factorial((1,),{}) ->  1\n",
      "factorial((2,),{}) ->  2\n",
      "factorial((3,),{}) ->  6\n",
      "factorial((4,),{}) ->  24\n",
      "factorial((5,),{}) ->  120\n",
      "factorial((6,),{}) ->  720\n",
      "factorial((7,),{}) ->  5040\n",
      "factorial((8,),{}) ->  40320\n",
      "factorial((9,),{}) ->  362880\n",
      "factorial((10,),{}) ->  3628800\n"
     ]
    },
    {
     "data": {
      "text/plain": [
       "3628800"
      ]
     },
     "execution_count": 41,
     "metadata": {},
     "output_type": "execute_result"
    }
   ],
   "source": [
    "factorial(10)"
   ]
  },
  {
   "cell_type": "code",
   "execution_count": 25,
   "metadata": {},
   "outputs": [
    {
     "name": "stdout",
     "output_type": "stream",
     "text": [
      "<function factorial at 0x7fb5a242a950>\n"
     ]
    }
   ],
   "source": [
    "print(factorial)"
   ]
  },
  {
   "cell_type": "code",
   "execution_count": 31,
   "metadata": {},
   "outputs": [
    {
     "data": {
      "text/plain": [
       "0"
      ]
     },
     "execution_count": 31,
     "metadata": {},
     "output_type": "execute_result"
    }
   ],
   "source": [
    "times = {'Pedro1': 'Luis'}\n",
    "times.get('Pedro', 0)"
   ]
  },
  {
   "cell_type": "code",
   "execution_count": 45,
   "metadata": {},
   "outputs": [],
   "source": [
    "from time import time\n",
    "times = {}\n",
    "def track_time(func):\n",
    "    @wraps(func)\n",
    "    def wrapper(*args, **kwargs):\n",
    "        init_time = time()\n",
    "        result = func(*args, **kwargs)\n",
    "        elapsed_time_in_seconds = time() - init_time\n",
    "        times[func.__name__] = times.get(func.__name__, 0) + elapsed_time_in_seconds\n",
    "        return result\n",
    "    return wrapper\n",
    "        \n",
    "        "
   ]
  },
  {
   "cell_type": "code",
   "execution_count": 53,
   "metadata": {},
   "outputs": [
    {
     "data": {
      "text/plain": [
       "{'factorial': 0.3343665599822998}"
      ]
     },
     "execution_count": 53,
     "metadata": {},
     "output_type": "execute_result"
    }
   ],
   "source": [
    "times"
   ]
  },
  {
   "cell_type": "code",
   "execution_count": 56,
   "metadata": {},
   "outputs": [],
   "source": [
    "from time import sleep"
   ]
  },
  {
   "cell_type": "code",
   "execution_count": 106,
   "metadata": {},
   "outputs": [],
   "source": [
    "class car():\n",
    "    time = {}\n",
    "    def __init__(self):\n",
    "        self.x = 10\n",
    "        self.y = 5\n",
    "        self.vx = 1\n",
    "        self.vy = 0\n",
    "    \n",
    "    @access_elements(1)\n",
    "    def step(self):\n",
    "        self.x += self.vx\n",
    "        self.y += self.vy\n",
    "    \n",
    "    @access_elements(15)\n",
    "    def show(self):\n",
    "        print(\"Showing myself\")\n",
    "    \n",
    "    @track_time\n",
    "    def move(self, steps=1):\n",
    "        for __ in range(steps):\n",
    "            self.step()\n",
    "    \n",
    "    \n",
    "    \n",
    "        "
   ]
  },
  {
   "cell_type": "code",
   "execution_count": 108,
   "metadata": {},
   "outputs": [
    {
     "name": "stdout",
     "output_type": "stream",
     "text": [
      "1\n",
      "10\n",
      "15\n",
      "11\n",
      "Showing myself\n",
      "15\n",
      "10\n",
      "Showing myself\n"
     ]
    }
   ],
   "source": [
    "def access_elements(me=1):\n",
    "    def some_func(func):\n",
    "        @wraps(func)\n",
    "        def wrapper(*args, **kwargs):\n",
    "            print(me)\n",
    "            print(args[0].x)\n",
    "            result = func(*args, **kwargs)\n",
    "            return result\n",
    "        return wrapper\n",
    "    return some_func\n",
    "\n",
    "car_b = car()\n",
    "car_b.step()\n",
    "car_b.show()\n",
    "\n",
    "car_c = car()\n",
    "car_c.show()"
   ]
  },
  {
   "cell_type": "code",
   "execution_count": null,
   "metadata": {},
   "outputs": [],
   "source": []
  },
  {
   "cell_type": "code",
   "execution_count": 74,
   "metadata": {},
   "outputs": [],
   "source": [
    "car_a.move(10000000)"
   ]
  },
  {
   "cell_type": "code",
   "execution_count": 75,
   "metadata": {},
   "outputs": [
    {
     "data": {
      "text/plain": [
       "{'factorial': 0.3343665599822998,\n",
       " 'step': 3.046853542327881,\n",
       " 'move': 6.578059673309326}"
      ]
     },
     "execution_count": 75,
     "metadata": {},
     "output_type": "execute_result"
    }
   ],
   "source": [
    "times"
   ]
  },
  {
   "cell_type": "code",
   "execution_count": 82,
   "metadata": {},
   "outputs": [
    {
     "name": "stdout",
     "output_type": "stream",
     "text": [
      "Im doing something\n",
      "3\n",
      "2\n",
      "3\n"
     ]
    }
   ],
   "source": [
    "def outer_decorator(*outer_args,**outer_kwargs):                            \n",
    "    def decorator(fn):                                            \n",
    "        def decorated(*args,**kwargs):                            \n",
    "            do_something(*outer_args,**outer_kwargs)                      \n",
    "            return fn(*args,**kwargs)                         \n",
    "        return decorated                                          \n",
    "    return decorator       \n",
    "    \n",
    "@outer_decorator(1,2,3)\n",
    "def foo(a,b,c):\n",
    "    print(a)\n",
    "    print(b)\n",
    "    print(c)\n",
    "\n",
    "\n",
    "foo(3,2,3)"
   ]
  },
  {
   "cell_type": "code",
   "execution_count": 79,
   "metadata": {},
   "outputs": [],
   "source": [
    "def do_something(a, b, c):\n",
    "    print('Im doing something')"
   ]
  },
  {
   "cell_type": "code",
   "execution_count": null,
   "metadata": {},
   "outputs": [],
   "source": []
  }
 ],
 "metadata": {
  "kernelspec": {
   "display_name": "Python 3",
   "language": "python",
   "name": "python3"
  },
  "language_info": {
   "codemirror_mode": {
    "name": "ipython",
    "version": 3
   },
   "file_extension": ".py",
   "mimetype": "text/x-python",
   "name": "python",
   "nbconvert_exporter": "python",
   "pygments_lexer": "ipython3",
   "version": "3.7.5"
  }
 },
 "nbformat": 4,
 "nbformat_minor": 4
}
